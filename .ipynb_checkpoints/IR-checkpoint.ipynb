{
 "cells": [
  {
   "cell_type": "code",
   "execution_count": 2,
   "id": "134c2899-a1df-43b9-a4b1-9513c7cda1cb",
   "metadata": {},
   "outputs": [
    {
     "name": "stderr",
     "output_type": "stream",
     "text": [
      "[nltk_data] Downloading package stopwords to\n",
      "[nltk_data]     C:\\Users\\Lenovo\\AppData\\Roaming\\nltk_data...\n",
      "[nltk_data]   Package stopwords is already up-to-date!\n",
      "[nltk_data] Downloading package wordnet to\n",
      "[nltk_data]     C:\\Users\\Lenovo\\AppData\\Roaming\\nltk_data...\n",
      "[nltk_data]   Package wordnet is already up-to-date!\n"
     ]
    }
   ],
   "source": [
    "import pandas as pd\n",
    "import ir_datasets\n",
    "import nltk\n",
    "from nltk.corpus import stopwords\n",
    "from nltk.stem import PorterStemmer\n",
    "from nltk.stem import WordNetLemmatizer\n",
    "import string\n",
    "from preprocess_text import preprocess_text,preprocess_csv_file"
   ]
  },
  {
   "cell_type": "code",
   "execution_count": 13,
   "id": "c3f808e9-b1bc-4040-9cff-b548fb188c08",
   "metadata": {},
   "outputs": [
    {
     "name": "stdout",
     "output_type": "stream",
     "text": [
      "                                                text  \\\n",
      "0  A small group of politicians believed strongly...   \n",
      "1             Because there is a lot of oil in Iraq.   \n",
      "2  It is tempting to say that the US invaded Iraq...   \n",
      "3  I think Yuval is pretty spot on. It's a provin...   \n",
      "4  Call an area apiarist.  They should be able to...   \n",
      "5  Don't try this yourself but this is what the o...   \n",
      "6  There's a general belief in Europe (and in fac...   \n",
      "7  I'd like to take a different approach in answe...   \n",
      "8  hybrid cars save energy in two ways: 1.by stor...   \n",
      "9  The gas mileage for some hybrids is better in ...   \n",
      "\n",
      "                                      processed_text  \n",
      "0  small group politician believ strongli fact sa...  \n",
      "1                                       lot oil iraq  \n",
      "2  tempt say u invad iraq lot oil u countri deep ...  \n",
      "3  think yuval pretti spot prove ground focal poi...  \n",
      "4  call area apiarist abl help would like remov c...  \n",
      "5  dont tri old fashion way done villag part worl...  \n",
      "6  there gener belief europ fact elsewher world c...  \n",
      "7  id like take differ approach answer think geog...  \n",
      "8  hybrid car save energi two way 1bi store energ...  \n",
      "9  ga mileag hybrid better citi spend time use el...  \n"
     ]
    }
   ],
   "source": [
    "data1 = pd.read_csv('antique/antique.csv',nrows=10)\n",
    "data1['processed_text'] = data1['text'].apply(preprocess_text)\n",
    "print(data1[['text', 'processed_text']])"
   ]
  },
  {
   "cell_type": "code",
   "execution_count": 15,
   "id": "4fe69cdd-92c5-4bd4-89fe-572907d27ec2",
   "metadata": {},
   "outputs": [
    {
     "name": "stdout",
     "output_type": "stream",
     "text": [
      "                                                text  \\\n",
      "0  it was used in landing craft during world war ...   \n",
      "1  after rejecting an offer from cambridge univer...   \n",
      "2  mat zan coached kuala lumpur fa in 1999 and wo...   \n",
      "3  a barcode is a machine readable optical label ...   \n",
      "4  since the subordination of the monarchy under ...   \n",
      "5  the tournament brought together club champions...   \n",
      "6  in january 1948 ballen acquired the interest o...   \n",
      "7  it is particularly notable for its association...   \n",
      "8  they are also known as the wamba wamba wemba w...   \n",
      "9  they moved south to england to cannock staffor...   \n",
      "\n",
      "                                      processed_text  \n",
      "0  use land craft world war ii use today privat b...  \n",
      "1  reject offer cambridg univers move london 1954...  \n",
      "2  mat zan coach kuala lumpur fa 1999 malaysia fa...  \n",
      "3  barcod machin readabl optic label contain info...  \n",
      "4  sinc subordin monarchi parliament increasingli...  \n",
      "5  tournament brought togeth club champion mani d...  \n",
      "6  januari 1948 ballen acquir interest good becam...  \n",
      "7  particularli notabl associ sever canada lead b...  \n",
      "8  also known wamba wamba wemba wemba bear strong...  \n",
      "9  move south england cannock staffordshir form b...  \n"
     ]
    }
   ],
   "source": [
    "data2 = pd.read_csv('wiklr/wikir.csv', nrows=10)\n",
    "data2['processed_text'] = data2['text'].apply(preprocess_text)\n",
    "print(data2[['text', 'processed_text']])"
   ]
  },
  {
   "cell_type": "code",
   "execution_count": 6,
   "id": "eec5f850-4173-4825-a569-b2d68f0869b4",
   "metadata": {},
   "outputs": [
    {
     "name": "stdout",
     "output_type": "stream",
     "text": [
      "Index(['docs_id', 'text'], dtype='object')\n"
     ]
    }
   ],
   "source": [
    "preprocess_csv_file('C:/Users/Lenovo/OneDrive/سطح المكتب/PROJECT/antique/antique_All_prosseced.csv',630)"
   ]
  },
  {
   "cell_type": "code",
   "execution_count": null,
   "id": "0bb1ba9c-68fe-4667-acb2-86cda0980119",
   "metadata": {},
   "outputs": [],
   "source": []
  }
 ],
 "metadata": {
  "kernelspec": {
   "display_name": "Python 3 (ipykernel)",
   "language": "python",
   "name": "python3"
  },
  "language_info": {
   "codemirror_mode": {
    "name": "ipython",
    "version": 3
   },
   "file_extension": ".py",
   "mimetype": "text/x-python",
   "name": "python",
   "nbconvert_exporter": "python",
   "pygments_lexer": "ipython3",
   "version": "3.11.7"
  }
 },
 "nbformat": 4,
 "nbformat_minor": 5
}
